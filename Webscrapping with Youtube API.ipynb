{
 "cells": [
  {
   "cell_type": "markdown",
   "id": "4c8b809e",
   "metadata": {},
   "source": [
    "## Webscrapping with Youtube API \n",
    "\n",
    "- This project interacts with the YouTube Data API to retrieve and analyze various statistics about a YouTube channel and its videos. The code is designed to fetch channel statistics, retrieve video IDs from a playlist, and gather detailed statistics for each video. \n",
    "\n",
    "- This information can be used for various analytical purposes, such as understanding channel performance, video popularity, and audience engagement."
   ]
  },
  {
   "cell_type": "code",
   "execution_count": 67,
   "id": "9b472e92",
   "metadata": {},
   "outputs": [],
   "source": [
    "# importing the required library\n",
    "\n",
    "from googleapiclient.discovery import build \n",
    "import pandas as pd\n",
    "import seaborn as sns \n",
    "from IPython.display import HTML\n",
    "import warnings\n",
    "warnings.simplefilter(\"ignore\")"
   ]
  },
  {
   "cell_type": "code",
   "execution_count": 68,
   "id": "f3a90a12",
   "metadata": {},
   "outputs": [],
   "source": [
    "# API key for authenticating requests to the YouTube Data API\n",
    "api_key  = \"#Your API key\"\n",
    "\n",
    "# The ID of the YouTube channel to retrieve data from \n",
    "channel_id = \"#Your Channel ID\"\n",
    "\n",
    "# Creating the YouTube API service object\n",
    "youtube = build (\"youtube\", \"v3\", developerKey = api_key)"
   ]
  },
  {
   "cell_type": "markdown",
   "id": "ddddf5cf",
   "metadata": {},
   "source": [
    "## Function to get Channel Statistics "
   ]
  },
  {
   "cell_type": "code",
   "execution_count": 69,
   "id": "ca913d21",
   "metadata": {},
   "outputs": [],
   "source": [
    "def get_channel_stats (youtube, channel_id):\n",
    "    request = youtube.channels().list(\n",
    "    part=\"snippet,contentDetails,statistics\",\n",
    "    id=channel_id\n",
    ")\n",
    "\n",
    "    response = request.execute()\n",
    "    \n",
    "    data = dict(Channel_name = response[\"items\"][0][\"snippet\"][\"title\"],\n",
    "                Subscribers = response[\"items\"][0][\"statistics\"][\"subscriberCount\"],\n",
    "                Views = response[\"items\"][0][\"statistics\"][\"viewCount\"],\n",
    "                Total_videos = response[\"items\"][0][\"statistics\"][\"videoCount\"],\n",
    "                Playlist_id = response [\"items\"][0][\"contentDetails\"][\"relatedPlaylists\"][\"uploads\"])\n",
    "    \n",
    "\n",
    "    return data "
   ]
  },
  {
   "cell_type": "code",
   "execution_count": null,
   "id": "d0bf62f3",
   "metadata": {},
   "outputs": [],
   "source": [
    "channel_data =  get_channel_stats (youtube, channel_id)\n",
    "channel_data"
   ]
  },
  {
   "cell_type": "markdown",
   "id": "12421d3d",
   "metadata": {},
   "source": [
    "## Function to fetch Video IDs"
   ]
  },
  {
   "cell_type": "code",
   "execution_count": null,
   "id": "d5350ecb",
   "metadata": {},
   "outputs": [],
   "source": [
    "playlist_id = channel_data[\"Playlist_id\"]\n",
    "\n",
    "playlist_id"
   ]
  },
  {
   "cell_type": "code",
   "execution_count": 72,
   "id": "ed846f80",
   "metadata": {},
   "outputs": [],
   "source": [
    "def get_video_ids (youtube, playlist_id):\n",
    "    request = youtube.playlistItems().list(\n",
    "    part = \"contentDetails\", \n",
    "    playlistId = playlist_id,\n",
    "    maxResults = 50)\n",
    "    \n",
    "    response = request.execute()\n",
    "    \n",
    "    video_ids = []\n",
    "    \n",
    "    # by default maxRange = 50\n",
    "    for i in range(len(response[\"items\"])):\n",
    "        video_ids.append(response[\"items\"][i][\"contentDetails\"][\"videoId\"])\n",
    "        \n",
    "    next_page_token = response.get(\"nextPageToken\")\n",
    "    more_pages = True \n",
    "    \n",
    "    while more_pages:\n",
    "        if next_page_token is None: \n",
    "            more_pages = False\n",
    "            \n",
    "        else:\n",
    "            request = youtube.playlistItems().list(\n",
    "            part = \"contentDetails\", \n",
    "            playlistId = playlist_id,\n",
    "            maxResults = 50,\n",
    "            pageToken = next_page_token)\n",
    "    \n",
    "            response = request.execute()\n",
    "        \n",
    "            for i in range(len(response[\"items\"])):\n",
    "                video_ids.append(response[\"items\"][i][\"contentDetails\"][\"videoId\"])\n",
    "                \n",
    "                next_page_token = response.get(\"nextPageToken\")\n",
    "    \n",
    "    return video_ids"
   ]
  },
  {
   "cell_type": "code",
   "execution_count": null,
   "id": "f4bd5d4e",
   "metadata": {},
   "outputs": [],
   "source": [
    "video_ids = get_video_ids(youtube, playlist_id)\n",
    "\n",
    "video_ids"
   ]
  },
  {
   "cell_type": "markdown",
   "id": "b529559f",
   "metadata": {},
   "source": [
    "## Function to get Video Details "
   ]
  },
  {
   "cell_type": "code",
   "execution_count": 74,
   "id": "a0d569da",
   "metadata": {},
   "outputs": [],
   "source": [
    "def get_video_details(youtube, video_ids):\n",
    "    \n",
    "    all_video_stats = []\n",
    "    \n",
    "    for i in range(0, len(video_ids), 50):\n",
    "        request = youtube.videos().list(\n",
    "                    part=\"snippet,contentDetails,statistics\" ,\n",
    "                    id=\",\".join(video_ids[i:i+50]))\n",
    "\n",
    "        response = request.execute()\n",
    "        for video in response[\"items\"]:\n",
    "            video_stats = dict(Title = video[\"snippet\"][\"title\"],\n",
    "                              Published_date = video[\"snippet\"][\"publishedAt\"],\n",
    "                              Duration = video[\"contentDetails\"][\"duration\"],\n",
    "                              Views = video[\"statistics\"][\"viewCount\"],\n",
    "                              Comments = video[\"statistics\"][\"commentCount\"],\n",
    "                              Likes = video[\"statistics\"][\"likeCount\"])\n",
    "            \n",
    "            all_video_stats.append(video_stats)\n",
    "            \n",
    "    return all_video_stats\n",
    "        \n",
    "    \n",
    "    "
   ]
  },
  {
   "cell_type": "code",
   "execution_count": 75,
   "id": "20d991ed",
   "metadata": {},
   "outputs": [],
   "source": [
    "video_details = get_video_details (youtube, video_ids)"
   ]
  },
  {
   "cell_type": "code",
   "execution_count": 76,
   "id": "662afe15",
   "metadata": {},
   "outputs": [],
   "source": [
    "video_data = pd.DataFrame (video_details)"
   ]
  },
  {
   "cell_type": "markdown",
   "id": "4a2b84de",
   "metadata": {},
   "source": [
    "## Dataset"
   ]
  },
  {
   "cell_type": "code",
   "execution_count": null,
   "id": "ebfdb536",
   "metadata": {},
   "outputs": [],
   "source": [
    "video_data"
   ]
  },
  {
   "cell_type": "markdown",
   "id": "739738c1",
   "metadata": {},
   "source": [
    "# Data Cleaning "
   ]
  },
  {
   "cell_type": "code",
   "execution_count": null,
   "id": "dfa71ee4",
   "metadata": {},
   "outputs": [],
   "source": [
    "video_data.head()"
   ]
  },
  {
   "cell_type": "code",
   "execution_count": 79,
   "id": "33745077",
   "metadata": {},
   "outputs": [
    {
     "data": {
      "text/plain": [
       "(154, 6)"
      ]
     },
     "execution_count": 79,
     "metadata": {},
     "output_type": "execute_result"
    }
   ],
   "source": [
    "video_data.shape"
   ]
  },
  {
   "cell_type": "code",
   "execution_count": 80,
   "id": "6bd04912",
   "metadata": {},
   "outputs": [
    {
     "name": "stdout",
     "output_type": "stream",
     "text": [
      "<class 'pandas.core.frame.DataFrame'>\n",
      "RangeIndex: 154 entries, 0 to 153\n",
      "Data columns (total 6 columns):\n",
      " #   Column          Non-Null Count  Dtype \n",
      "---  ------          --------------  ----- \n",
      " 0   Title           154 non-null    object\n",
      " 1   Published_date  154 non-null    object\n",
      " 2   Duration        154 non-null    object\n",
      " 3   Views           154 non-null    object\n",
      " 4   Comments        154 non-null    object\n",
      " 5   Likes           154 non-null    object\n",
      "dtypes: object(6)\n",
      "memory usage: 7.3+ KB\n"
     ]
    }
   ],
   "source": [
    "video_data.info()"
   ]
  },
  {
   "cell_type": "code",
   "execution_count": 81,
   "id": "7eb4d45e",
   "metadata": {},
   "outputs": [],
   "source": [
    "# conver the dtype to numeric\n",
    "\n",
    "video_data[\"Views\"] = pd.to_numeric(video_data[\"Views\"])\n",
    "video_data[\"Comments\"] = pd.to_numeric(video_data[\"Comments\"])\n",
    "video_data[\"Likes\"] = pd.to_numeric(video_data[\"Likes\"])"
   ]
  },
  {
   "cell_type": "code",
   "execution_count": 82,
   "id": "3d586272",
   "metadata": {},
   "outputs": [],
   "source": [
    "# Split the 'FullName' column into 'FirstName' and 'LastName'\n",
    "video_data[[\"Date\", \"Time\"]] = video_data[\"Published_date\"].str.split(\"T\", expand=True)\n"
   ]
  },
  {
   "cell_type": "code",
   "execution_count": 83,
   "id": "b7c8c571",
   "metadata": {},
   "outputs": [],
   "source": [
    "video_data[\"Upload_hour\"] = pd.to_datetime(video_data[\"Published_date\"]).dt.hour\n"
   ]
  },
  {
   "cell_type": "code",
   "execution_count": null,
   "id": "4b7266b0",
   "metadata": {},
   "outputs": [],
   "source": [
    "video_data [[\"Time\", \"Time__\"]] = video_data[\"Time\"].str.split(\"Z\", expand = True)\n",
    "\n",
    "video_data"
   ]
  },
  {
   "cell_type": "code",
   "execution_count": 85,
   "id": "c47627cb",
   "metadata": {},
   "outputs": [],
   "source": [
    "# Function to extract minutes using split method\n",
    "def extract_minutes_split(duration):\n",
    "    if 'M' in duration:\n",
    "        minutes_part = duration.split('M')[0]  # Get the part before 'M'\n",
    "        if 'H' in minutes_part:\n",
    "            minutes = minutes_part.split('H')[1]  # Get the part after 'H'\n",
    "        else:\n",
    "            minutes = minutes_part.split('T')[1]  # Get the part after 'T'\n",
    "        return int(minutes)\n",
    "    return 0\n",
    "\n",
    "# Apply the function to the 'duration' column\n",
    "video_data[\"Duration\"] = video_data[\"Duration\"].apply(extract_minutes_split)\n"
   ]
  },
  {
   "cell_type": "code",
   "execution_count": 86,
   "id": "31e3a30b",
   "metadata": {},
   "outputs": [],
   "source": [
    "video_data.drop([\"Published_date\", \"Time__\"], axis = 1, inplace = True)\n",
    "\n"
   ]
  },
  {
   "cell_type": "code",
   "execution_count": 88,
   "id": "9778eb56",
   "metadata": {},
   "outputs": [],
   "source": [
    "video_data[\"Date\"] = pd.to_datetime (video_data[\"Date\"])\n",
    "\n",
    "video_data[\"Day_of_week\"] = video_data[\"Date\"].dt.day_name ()\n",
    "\n"
   ]
  },
  {
   "cell_type": "code",
   "execution_count": 89,
   "id": "7b140246",
   "metadata": {},
   "outputs": [],
   "source": [
    "\n",
    "video_data['Time'] = pd.to_datetime(video_data['Time'])\n",
    "\n",
    "video_data[\"Time\"] = video_data[\"Time\"].dt.time"
   ]
  },
  {
   "cell_type": "code",
   "execution_count": 90,
   "id": "e0706010",
   "metadata": {},
   "outputs": [
    {
     "name": "stdout",
     "output_type": "stream",
     "text": [
      "<class 'pandas.core.frame.DataFrame'>\n",
      "RangeIndex: 154 entries, 0 to 153\n",
      "Data columns (total 9 columns):\n",
      " #   Column       Non-Null Count  Dtype         \n",
      "---  ------       --------------  -----         \n",
      " 0   Title        154 non-null    object        \n",
      " 1   Duration     154 non-null    int64         \n",
      " 2   Views        154 non-null    int64         \n",
      " 3   Comments     154 non-null    int64         \n",
      " 4   Likes        154 non-null    int64         \n",
      " 5   Date         154 non-null    datetime64[ns]\n",
      " 6   Time         154 non-null    object        \n",
      " 7   Upload_hour  154 non-null    int32         \n",
      " 8   Day_of_week  154 non-null    object        \n",
      "dtypes: datetime64[ns](1), int32(1), int64(4), object(3)\n",
      "memory usage: 10.4+ KB\n"
     ]
    }
   ],
   "source": [
    "video_data.info()"
   ]
  },
  {
   "cell_type": "code",
   "execution_count": null,
   "id": "0f5d62bd",
   "metadata": {},
   "outputs": [],
   "source": [
    "video_data"
   ]
  },
  {
   "cell_type": "code",
   "execution_count": 93,
   "id": "00d76856",
   "metadata": {},
   "outputs": [
    {
     "name": "stdout",
     "output_type": "stream",
     "text": [
      "<class 'datetime.time'>\n"
     ]
    }
   ],
   "source": [
    "print(type(video_data['Time'][0]))"
   ]
  },
  {
   "cell_type": "code",
   "execution_count": 94,
   "id": "e094c375",
   "metadata": {},
   "outputs": [],
   "source": [
    "file_path = \"video_data.csv\"\n",
    "\n",
    "video_data.to_csv(file_path, index=False)"
   ]
  },
  {
   "cell_type": "code",
   "execution_count": 95,
   "id": "65d4ed42",
   "metadata": {},
   "outputs": [
    {
     "data": {
      "text/html": [
       "<a href=\"video_data.csv\" download>Download CSV file</a>"
      ],
      "text/plain": [
       "<IPython.core.display.HTML object>"
      ]
     },
     "execution_count": 95,
     "metadata": {},
     "output_type": "execute_result"
    }
   ],
   "source": [
    "# Create a download link\n",
    "def create_download_link(filename):\n",
    "    return HTML(f'<a href=\"{filename}\" download>Download CSV file</a>')\n",
    "\n",
    "# Display the download link\n",
    "create_download_link(file_path)"
   ]
  },
  {
   "cell_type": "code",
   "execution_count": null,
   "id": "25ff35c3",
   "metadata": {},
   "outputs": [],
   "source": []
  },
  {
   "cell_type": "code",
   "execution_count": null,
   "id": "44e190a4",
   "metadata": {},
   "outputs": [],
   "source": []
  }
 ],
 "metadata": {
  "kernelspec": {
   "display_name": "Python 3 (ipykernel)",
   "language": "python",
   "name": "python3"
  },
  "language_info": {
   "codemirror_mode": {
    "name": "ipython",
    "version": 3
   },
   "file_extension": ".py",
   "mimetype": "text/x-python",
   "name": "python",
   "nbconvert_exporter": "python",
   "pygments_lexer": "ipython3",
   "version": "3.11.5"
  }
 },
 "nbformat": 4,
 "nbformat_minor": 5
}
